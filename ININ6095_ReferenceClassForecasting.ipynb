{
  "nbformat": 4,
  "nbformat_minor": 0,
  "metadata": {
    "colab": {
      "provenance": [],
      "authorship_tag": "ABX9TyOMrr6tXvSSJBNdEX9k6fiU",
      "include_colab_link": true
    },
    "kernelspec": {
      "name": "python3",
      "display_name": "Python 3"
    },
    "language_info": {
      "name": "python"
    }
  },
  "cells": [
    {
      "cell_type": "markdown",
      "metadata": {
        "id": "view-in-github",
        "colab_type": "text"
      },
      "source": [
        "<a href=\"https://colab.research.google.com/github/carlaperez9/ReferenceClassForecasting/blob/main/ININ6095_ReferenceClassForecasting.ipynb\" target=\"_parent\"><img src=\"https://colab.research.google.com/assets/colab-badge.svg\" alt=\"Open In Colab\"/></a>"
      ]
    },
    {
      "cell_type": "markdown",
      "source": [
        "Create dummy data."
      ],
      "metadata": {
        "id": "3uuIOzKzBlSI"
      }
    },
    {
      "cell_type": "code",
      "source": [
        "import numpy as np\n",
        "\n",
        "np.random.seed(0)\n",
        "# identically sized periods\n",
        "M = 100\n",
        "# this is just to generate dummy data for y_m\n",
        "y_m = np.random.randint(1, 3, size=M)\n",
        "# number of contiguos and mutually exclusive classes\n",
        "K = 4\n",
        "# number of lags\n",
        "L = 3"
      ],
      "metadata": {
        "id": "iogr0P9_OV5y"
      },
      "execution_count": null,
      "outputs": []
    },
    {
      "cell_type": "markdown",
      "source": [
        "Creating a training matrix with $M-L$ rows and $L+1$ columns."
      ],
      "metadata": {
        "id": "4cHPPPcZP0x6"
      }
    },
    {
      "cell_type": "code",
      "source": [
        "print(\"M - L rows = \", M-L)"
      ],
      "metadata": {
        "colab": {
          "base_uri": "https://localhost:8080/"
        },
        "id": "brhPdBZPFR14",
        "outputId": "dade67b8-e997-4a56-daf9-d93eb0c831a9"
      },
      "execution_count": null,
      "outputs": [
        {
          "output_type": "stream",
          "name": "stdout",
          "text": [
            "M - L rows =  97\n"
          ]
        }
      ]
    },
    {
      "cell_type": "code",
      "source": [
        "print(\"L+1 columns = \", L+1)"
      ],
      "metadata": {
        "colab": {
          "base_uri": "https://localhost:8080/"
        },
        "id": "VgIEfQHrFSr_",
        "outputId": "2d024237-f66b-4880-cc95-f43e76798b4b"
      },
      "execution_count": null,
      "outputs": [
        {
          "output_type": "stream",
          "name": "stdout",
          "text": [
            "L+1 columns =  4\n"
          ]
        }
      ]
    },
    {
      "cell_type": "code",
      "source": [
        "# training matrix\n",
        "T = np.zeros((M-L, L+1))\n",
        "# predictions are a zero-matrix with dim = M\n",
        "y_m_hat = np.zeros(M)"
      ],
      "metadata": {
        "id": "A1MbUudjP62u"
      },
      "execution_count": null,
      "outputs": []
    },
    {
      "cell_type": "code",
      "source": [
        "T"
      ],
      "metadata": {
        "colab": {
          "base_uri": "https://localhost:8080/"
        },
        "id": "MBB-HtIoQRe6",
        "outputId": "131a00c4-193d-48b4-c006-8a05d9697e69"
      },
      "execution_count": null,
      "outputs": [
        {
          "output_type": "execute_result",
          "data": {
            "text/plain": [
              "array([[0., 0., 0., 0.],\n",
              "       [0., 0., 0., 0.],\n",
              "       [0., 0., 0., 0.],\n",
              "       [0., 0., 0., 0.],\n",
              "       [0., 0., 0., 0.],\n",
              "       [0., 0., 0., 0.],\n",
              "       [0., 0., 0., 0.],\n",
              "       [0., 0., 0., 0.],\n",
              "       [0., 0., 0., 0.],\n",
              "       [0., 0., 0., 0.],\n",
              "       [0., 0., 0., 0.],\n",
              "       [0., 0., 0., 0.],\n",
              "       [0., 0., 0., 0.],\n",
              "       [0., 0., 0., 0.],\n",
              "       [0., 0., 0., 0.],\n",
              "       [0., 0., 0., 0.],\n",
              "       [0., 0., 0., 0.],\n",
              "       [0., 0., 0., 0.],\n",
              "       [0., 0., 0., 0.],\n",
              "       [0., 0., 0., 0.],\n",
              "       [0., 0., 0., 0.],\n",
              "       [0., 0., 0., 0.],\n",
              "       [0., 0., 0., 0.],\n",
              "       [0., 0., 0., 0.],\n",
              "       [0., 0., 0., 0.],\n",
              "       [0., 0., 0., 0.],\n",
              "       [0., 0., 0., 0.],\n",
              "       [0., 0., 0., 0.],\n",
              "       [0., 0., 0., 0.],\n",
              "       [0., 0., 0., 0.],\n",
              "       [0., 0., 0., 0.],\n",
              "       [0., 0., 0., 0.],\n",
              "       [0., 0., 0., 0.],\n",
              "       [0., 0., 0., 0.],\n",
              "       [0., 0., 0., 0.],\n",
              "       [0., 0., 0., 0.],\n",
              "       [0., 0., 0., 0.],\n",
              "       [0., 0., 0., 0.],\n",
              "       [0., 0., 0., 0.],\n",
              "       [0., 0., 0., 0.],\n",
              "       [0., 0., 0., 0.],\n",
              "       [0., 0., 0., 0.],\n",
              "       [0., 0., 0., 0.],\n",
              "       [0., 0., 0., 0.],\n",
              "       [0., 0., 0., 0.],\n",
              "       [0., 0., 0., 0.],\n",
              "       [0., 0., 0., 0.],\n",
              "       [0., 0., 0., 0.],\n",
              "       [0., 0., 0., 0.],\n",
              "       [0., 0., 0., 0.],\n",
              "       [0., 0., 0., 0.],\n",
              "       [0., 0., 0., 0.],\n",
              "       [0., 0., 0., 0.],\n",
              "       [0., 0., 0., 0.],\n",
              "       [0., 0., 0., 0.],\n",
              "       [0., 0., 0., 0.],\n",
              "       [0., 0., 0., 0.],\n",
              "       [0., 0., 0., 0.],\n",
              "       [0., 0., 0., 0.],\n",
              "       [0., 0., 0., 0.],\n",
              "       [0., 0., 0., 0.],\n",
              "       [0., 0., 0., 0.],\n",
              "       [0., 0., 0., 0.],\n",
              "       [0., 0., 0., 0.],\n",
              "       [0., 0., 0., 0.],\n",
              "       [0., 0., 0., 0.],\n",
              "       [0., 0., 0., 0.],\n",
              "       [0., 0., 0., 0.],\n",
              "       [0., 0., 0., 0.],\n",
              "       [0., 0., 0., 0.],\n",
              "       [0., 0., 0., 0.],\n",
              "       [0., 0., 0., 0.],\n",
              "       [0., 0., 0., 0.],\n",
              "       [0., 0., 0., 0.],\n",
              "       [0., 0., 0., 0.],\n",
              "       [0., 0., 0., 0.],\n",
              "       [0., 0., 0., 0.],\n",
              "       [0., 0., 0., 0.],\n",
              "       [0., 0., 0., 0.],\n",
              "       [0., 0., 0., 0.],\n",
              "       [0., 0., 0., 0.],\n",
              "       [0., 0., 0., 0.],\n",
              "       [0., 0., 0., 0.],\n",
              "       [0., 0., 0., 0.],\n",
              "       [0., 0., 0., 0.],\n",
              "       [0., 0., 0., 0.],\n",
              "       [0., 0., 0., 0.],\n",
              "       [0., 0., 0., 0.],\n",
              "       [0., 0., 0., 0.],\n",
              "       [0., 0., 0., 0.],\n",
              "       [0., 0., 0., 0.],\n",
              "       [0., 0., 0., 0.],\n",
              "       [0., 0., 0., 0.],\n",
              "       [0., 0., 0., 0.],\n",
              "       [0., 0., 0., 0.],\n",
              "       [0., 0., 0., 0.],\n",
              "       [0., 0., 0., 0.]])"
            ]
          },
          "metadata": {},
          "execution_count": 31
        }
      ]
    },
    {
      "cell_type": "code",
      "source": [
        "y_m_hat"
      ],
      "metadata": {
        "colab": {
          "base_uri": "https://localhost:8080/"
        },
        "id": "iNKugAoEQSid",
        "outputId": "84972243-0bb6-4aab-e903-0d08a411124c"
      },
      "execution_count": null,
      "outputs": [
        {
          "output_type": "execute_result",
          "data": {
            "text/plain": [
              "array([0., 0., 0., 0., 0., 0., 0., 0., 0., 0., 0., 0., 0., 0., 0., 0., 0.,\n",
              "       0., 0., 0., 0., 0., 0., 0., 0., 0., 0., 0., 0., 0., 0., 0., 0., 0.,\n",
              "       0., 0., 0., 0., 0., 0., 0., 0., 0., 0., 0., 0., 0., 0., 0., 0., 0.,\n",
              "       0., 0., 0., 0., 0., 0., 0., 0., 0., 0., 0., 0., 0., 0., 0., 0., 0.,\n",
              "       0., 0., 0., 0., 0., 0., 0., 0., 0., 0., 0., 0., 0., 0., 0., 0., 0.,\n",
              "       0., 0., 0., 0., 0., 0., 0., 0., 0., 0., 0., 0., 0., 0., 0.])"
            ]
          },
          "metadata": {},
          "execution_count": 32
        }
      ]
    },
    {
      "cell_type": "code",
      "source": [
        "for t in range(L, M):\n",
        "    # Assign each observation to one of the K classes\n",
        "    class_assignment = np.random.randint(1, K + 1)\n",
        "    y_m_hat[t] = class_assignment\n",
        "    # Construct the training matrix\n",
        "    T[t - L, :] = [y_m_hat[t - l] for l in range(L, -1, -1)]"
      ],
      "metadata": {
        "id": "CxcQqZfqQbS1"
      },
      "execution_count": null,
      "outputs": []
    },
    {
      "cell_type": "markdown",
      "source": [
        "Running a simple validation to confirm the shape of the training matrix."
      ],
      "metadata": {
        "id": "8QC9WWxxQ-qg"
      }
    },
    {
      "cell_type": "code",
      "source": [
        "print(f\"The shape of the training matrix is: {T.shape}\")"
      ],
      "metadata": {
        "colab": {
          "base_uri": "https://localhost:8080/"
        },
        "id": "yOCHx4P0RBrj",
        "outputId": "8c762c53-158e-49d3-ce2c-ecaac642cbe3"
      },
      "execution_count": null,
      "outputs": [
        {
          "output_type": "stream",
          "name": "stdout",
          "text": [
            "The shape of the training matrix is: (97, 4)\n"
          ]
        }
      ]
    },
    {
      "cell_type": "markdown",
      "source": [
        "Building $L$ matrices"
      ],
      "metadata": {
        "id": "I4tBIyZWF7Jy"
      }
    },
    {
      "cell_type": "code",
      "source": [
        "transition_matrices = []\n",
        "# range(1, L+1) ensures we build L matrices\n",
        "for lag in range(1, L + 1):\n",
        "\n",
        "    # transition matrix of dim K x K, initialized with dummy data\n",
        "    transition_matrix = np.zeros((K, K), dtype=int)\n",
        "\n",
        "    # Loop through the training matrix to tally class transitions\n",
        "    for i in range(len(T) - lag):\n",
        "        current_class = int(T[i, lag - 1]) - 1\n",
        "        next_class = int(T[i, lag]) - 1\n",
        "        transition_matrix[current_class, next_class] += 1\n",
        "\n",
        "    transition_matrices.append(transition_matrix)\n",
        "\n",
        "for lag, transition_matrix in enumerate(transition_matrices):\n",
        "    print(f\"Transition Matrix for lag {lag + 1}:\\n{transition_matrix}\\n\")\n"
      ],
      "metadata": {
        "colab": {
          "base_uri": "https://localhost:8080/"
        },
        "id": "DtWR2bjPF6ic",
        "outputId": "f5422c76-efc5-4e6f-9cdb-3c085eca0347"
      },
      "execution_count": null,
      "outputs": [
        {
          "output_type": "stream",
          "name": "stdout",
          "text": [
            "Transition Matrix for lag 1:\n",
            "[[ 4  4  7  7]\n",
            " [ 3  5  6  3]\n",
            " [ 6  4  6 12]\n",
            " [ 9  4  9  7]]\n",
            "\n",
            "Transition Matrix for lag 2:\n",
            "[[ 4  4  7  7]\n",
            " [ 3  5  6  3]\n",
            " [ 6  4  6 12]\n",
            " [ 9  4  9  6]]\n",
            "\n",
            "Transition Matrix for lag 3:\n",
            "[[ 4  4  7  7]\n",
            " [ 3  5  6  3]\n",
            " [ 6  4  6 12]\n",
            " [ 9  4  9  5]]\n",
            "\n"
          ]
        }
      ]
    },
    {
      "cell_type": "markdown",
      "source": [
        "Now, each of the $L$ square matrices need to be modified. This is to compute the class transition frequency, defined as $$ p^{l}_{ij} = \\frac{f^{l}_{ij}}{∑_{\\forall j} f^{l}_{ij}}$$"
      ],
      "metadata": {
        "id": "VkW1DCUDSYb6"
      }
    },
    {
      "cell_type": "code",
      "source": [
        "class_transition_frequency_matrices = []\n",
        "\n",
        "for matrix in transition_matrices:\n",
        "  row_sums = transition_matrix.sum(axis=1, keepdims=True)\n",
        "  # preliminary - to ensure sums we do not get NaNs\n",
        "  row_sums[row_sums==0]=1\n",
        "  class_transition_frequency_matrix = transition_matrix / row_sums\n",
        "  class_transition_frequency_matrices.append(class_transition_frequency_matrix)\n",
        "\n",
        "for lag, class_transition_ in enumerate(class_transition_frequency_matrices):\n",
        "  print(f\"Class transition frequency matrix for lag {lag + 1}:\\n{class_transition_}\\n\")\n"
      ],
      "metadata": {
        "colab": {
          "base_uri": "https://localhost:8080/"
        },
        "id": "h7x1qgmmTRHz",
        "outputId": "f40f826b-61bb-4c86-9cd3-da0f2673f640"
      },
      "execution_count": null,
      "outputs": [
        {
          "output_type": "stream",
          "name": "stdout",
          "text": [
            "Class transition frequency matrix for lag 1:\n",
            "[[0.18181818 0.18181818 0.31818182 0.31818182]\n",
            " [0.17647059 0.29411765 0.35294118 0.17647059]\n",
            " [0.21428571 0.14285714 0.21428571 0.42857143]\n",
            " [0.33333333 0.14814815 0.33333333 0.18518519]]\n",
            "\n",
            "Class transition frequency matrix for lag 2:\n",
            "[[0.18181818 0.18181818 0.31818182 0.31818182]\n",
            " [0.17647059 0.29411765 0.35294118 0.17647059]\n",
            " [0.21428571 0.14285714 0.21428571 0.42857143]\n",
            " [0.33333333 0.14814815 0.33333333 0.18518519]]\n",
            "\n",
            "Class transition frequency matrix for lag 3:\n",
            "[[0.18181818 0.18181818 0.31818182 0.31818182]\n",
            " [0.17647059 0.29411765 0.35294118 0.17647059]\n",
            " [0.21428571 0.14285714 0.21428571 0.42857143]\n",
            " [0.33333333 0.14814815 0.33333333 0.18518519]]\n",
            "\n"
          ]
        }
      ]
    },
    {
      "cell_type": "markdown",
      "source": [
        "Producing a foreacast:\n",
        "\n",
        "To produce a forecast for a particular time period $t$ using the clases in the last $L$ previous periods $\\widehat{y}_{t-1}, \\widehat{y}_{t-2},...,\\widehat{y}_{t-L}$, the analyst first presents the following indices for each class $k$, $D^{k}_{t}$.\n",
        "\n",
        "Note that $$D_k = \\sum_{\\forall l} p^{l}_{ \\widehat {y}_ {t - (L+1-l)^2}}$$"
      ],
      "metadata": {
        "id": "16dLM8w-VBd6"
      }
    },
    {
      "cell_type": "code",
      "source": [
        "# this function will calculate d_k for one transition matrix\n",
        "def D_k(class_transition_frequency_matrix):\n",
        "  # initializing an empty list to store all values of D_k\n",
        "  d_k = []\n",
        "  # abstracting to obtain the length of any class transition frequency matrix\n",
        "  L = len(class_transition_frequency_matrix)\n",
        "  # looping over all lags\n",
        "  for lag in range(1, L+1):\n",
        "    sub_index = t - (L + 1 - lag)**2\n",
        "    D_k = np.sum(class_transition_frequency_matrix[sub_index])\n",
        "    d_k.append(D_k)\n",
        "\n",
        "  print(f\"lag={lag}, sub_index={sub_index}, class_transition_frequency_matrix.shape={class_transition_frequency_matrix.shape}\")\n",
        "\n",
        "  return D_k"
      ],
      "metadata": {
        "id": "QfOYeCLcXwv9"
      },
      "execution_count": null,
      "outputs": []
    },
    {
      "cell_type": "code",
      "source": [
        "for transition_frequency_matrix in class_transition_frequency_matrices:\n",
        "  D_k(transition_frequency_matrix)"
      ],
      "metadata": {
        "colab": {
          "base_uri": "https://localhost:8080/",
          "height": 315
        },
        "id": "ee-7PRR8TNJG",
        "outputId": "768bffac-e797-4c3c-d118-4f8e98d10c74"
      },
      "execution_count": null,
      "outputs": [
        {
          "output_type": "error",
          "ename": "IndexError",
          "evalue": "ignored",
          "traceback": [
            "\u001b[0;31m---------------------------------------------------------------------------\u001b[0m",
            "\u001b[0;31mIndexError\u001b[0m                                Traceback (most recent call last)",
            "\u001b[0;32m<ipython-input-59-fa0f000b4d11>\u001b[0m in \u001b[0;36m<cell line: 1>\u001b[0;34m()\u001b[0m\n\u001b[1;32m      1\u001b[0m \u001b[0;32mfor\u001b[0m \u001b[0mtransition_frequency_matrix\u001b[0m \u001b[0;32min\u001b[0m \u001b[0mclass_transition_frequency_matrices\u001b[0m\u001b[0;34m:\u001b[0m\u001b[0;34m\u001b[0m\u001b[0;34m\u001b[0m\u001b[0m\n\u001b[0;32m----> 2\u001b[0;31m   \u001b[0mD_k\u001b[0m\u001b[0;34m(\u001b[0m\u001b[0mtransition_frequency_matrix\u001b[0m\u001b[0;34m)\u001b[0m\u001b[0;34m\u001b[0m\u001b[0;34m\u001b[0m\u001b[0m\n\u001b[0m",
            "\u001b[0;32m<ipython-input-58-745cd3a2af78>\u001b[0m in \u001b[0;36mD_k\u001b[0;34m(class_transition_frequency_matrix)\u001b[0m\n\u001b[1;32m      8\u001b[0m   \u001b[0;32mfor\u001b[0m \u001b[0mlag\u001b[0m \u001b[0;32min\u001b[0m \u001b[0mrange\u001b[0m\u001b[0;34m(\u001b[0m\u001b[0;36m1\u001b[0m\u001b[0;34m,\u001b[0m \u001b[0mL\u001b[0m\u001b[0;34m+\u001b[0m\u001b[0;36m1\u001b[0m\u001b[0;34m)\u001b[0m\u001b[0;34m:\u001b[0m\u001b[0;34m\u001b[0m\u001b[0;34m\u001b[0m\u001b[0m\n\u001b[1;32m      9\u001b[0m     \u001b[0msub_index\u001b[0m \u001b[0;34m=\u001b[0m \u001b[0mt\u001b[0m \u001b[0;34m-\u001b[0m \u001b[0;34m(\u001b[0m\u001b[0mL\u001b[0m \u001b[0;34m+\u001b[0m \u001b[0;36m1\u001b[0m \u001b[0;34m-\u001b[0m \u001b[0mlag\u001b[0m\u001b[0;34m)\u001b[0m\u001b[0;34m**\u001b[0m\u001b[0;36m2\u001b[0m\u001b[0;34m\u001b[0m\u001b[0;34m\u001b[0m\u001b[0m\n\u001b[0;32m---> 10\u001b[0;31m     \u001b[0mD_k\u001b[0m \u001b[0;34m=\u001b[0m \u001b[0mnp\u001b[0m\u001b[0;34m.\u001b[0m\u001b[0msum\u001b[0m\u001b[0;34m(\u001b[0m\u001b[0mclass_transition_frequency_matrix\u001b[0m\u001b[0;34m[\u001b[0m\u001b[0msub_index\u001b[0m\u001b[0;34m]\u001b[0m\u001b[0;34m)\u001b[0m\u001b[0;34m\u001b[0m\u001b[0;34m\u001b[0m\u001b[0m\n\u001b[0m\u001b[1;32m     11\u001b[0m     \u001b[0md_k\u001b[0m\u001b[0;34m.\u001b[0m\u001b[0mappend\u001b[0m\u001b[0;34m(\u001b[0m\u001b[0mD_k\u001b[0m\u001b[0;34m)\u001b[0m\u001b[0;34m\u001b[0m\u001b[0;34m\u001b[0m\u001b[0m\n\u001b[1;32m     12\u001b[0m \u001b[0;34m\u001b[0m\u001b[0m\n",
            "\u001b[0;31mIndexError\u001b[0m: index -13 is out of bounds for axis 0 with size 4"
          ]
        }
      ]
    }
  ]
}